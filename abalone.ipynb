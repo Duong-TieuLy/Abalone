import pandas as pd
import numpy as np
from IPython.display import display

# Đường dẫn file
CSV_PATH = "abalone_data.csv"
df = pd.read_csv(CSV_PATH)

# a Kích thước và chiều
print("\n--- a. Kích thước & chiều dữ liệu ---")
print(f"Số hàng (mẫu): {df.shape[0]}")
print(f"Số cột (thuộc tính): {df.shape[1]}")

# b Kiểu dữ liệu
print("\n--- b. Kiểu dữ liệu của các thuộc tính ---")
display(df.dtypes.to_frame('Kiểu dữ liệu'))

# c Số lượng thực thể theo nhãn
print("\n--- c. Phân bố giá trị nhãn 'Sex' ---")
sex_counts = df['Sex'].value_counts().sort_index()
display(sex_counts.to_frame('Số lượng'))

print("\n--- c. Phân bố giá trị nhãn 'Rings' ---")
rings_counts = df['Rings'].value_counts().sort_index()
display(rings_counts.to_frame('Số lượng'))

# d Min, Max, Mean của các cột số thực (loại trừ Sex và Rings nếu coi là categorical)
numeric_cols = df.select_dtypes(include=['float64', 'int64']).columns
numeric_cols = [col for col in numeric_cols if col not in ['Sex', 'Rings']]

print("\n--- d. Min, Max, Mean của các cột số thực ---")
stats = df[numeric_cols].agg(['min', 'max', 'mean']).T
stats.columns = ['Min', 'Max', 'Mean']
stats = stats.round(4)
display(stats)
